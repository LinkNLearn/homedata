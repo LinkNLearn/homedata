{
 "cells": [
  {
   "cell_type": "markdown",
   "metadata": {},
   "source": [
    "#Set environment"
   ]
  },
  {
   "cell_type": "code",
   "execution_count": 24,
   "metadata": {},
   "outputs": [],
   "source": [
    "import pandas as pd\n",
    "import numpy as np\n",
    "import matplotlib.pyplot as plt\n",
    "import json\n",
    "import glob"
   ]
  },
  {
   "cell_type": "markdown",
   "metadata": {},
   "source": [
    "#Load data"
   ]
  },
  {
   "cell_type": "code",
   "execution_count": 30,
   "metadata": {},
   "outputs": [
    {
     "name": "stdout",
     "output_type": "stream",
     "text": [
      "file\n",
      "             date_time  id  room_id   voc  warm_up\n",
      "0  2018-01-01 20:00:03   1        1   3.0        0\n",
      "1  2018-01-01 20:10:01   2        1   9.0        0\n",
      "2  2018-01-01 20:20:02   3        1   9.0        0\n",
      "3  2018-01-01 20:30:02   4        1   5.0        0\n",
      "4  2018-01-01 20:40:03   5        1  13.0        0\n",
      "file\n",
      "   id        name\n",
      "0   0  Front Door\n",
      "1   1   Back Door\n",
      "file\n",
      "             date_time  door_id  id  status\n",
      "0  2018-05-12 19:55:11        0  84       0\n",
      "1  2018-05-12 19:55:11        1  85       0\n",
      "2  2018-05-12 19:55:40        1  86       1\n",
      "3  2018-05-12 19:55:52        1  87       0\n",
      "4  2018-05-12 19:57:35        0  88       1\n",
      "file\n",
      "   id      location      name\n",
      "0   0  Second Floor   Bedroom\n",
      "1   1   First Floor    Office\n",
      "2   3  Second Floor     Attic\n",
      "3   6      Basement  Workshop\n",
      "file\n",
      "             date_time  humidity      id  room_id  temperature\n",
      "0  2017-08-31 19:00:02   46.8336  202486        0      70.5281\n",
      "1  2017-08-31 19:00:03   45.3535  202487        1      71.9181\n",
      "2  2017-08-31 19:10:03   46.4826  202488        0      70.3737\n",
      "3  2017-08-31 19:10:03   45.5213  202489        1      71.5513\n",
      "4  2017-08-31 19:20:02   46.3605  202490        0      70.1227\n",
      "file\n",
      "   id name\n",
      "0   1    a\n",
      "1   2    b\n",
      "file\n",
      "   duration   id         start       start_datetime  stepCount  user_id  \\\n",
      "0   5579984  1.0  1.504242e+12  2017-09-01 00:00:00          0        1   \n",
      "1         0  2.0  1.504242e+12  2017-09-01 00:01:00       8097        1   \n",
      "2   5579278  3.0  1.504246e+12  2017-09-01 01:00:28          0        1   \n",
      "3   5531773  4.0  1.504249e+12  2017-09-01 02:00:15          0        1   \n",
      "4   5450899  5.0  1.504253e+12  2017-09-01 03:00:43          0        1   \n",
      "\n",
      "   workout_type_id  \n",
      "0                3  \n",
      "1               -2  \n",
      "2                3  \n",
      "3                3  \n",
      "4                3  \n",
      "file\n",
      "   id        type\n",
      "0   0  IN_VEHICLE\n",
      "1   1      BIKING\n",
      "2   2     ON_FOOT\n",
      "3   3       STILL\n",
      "4   4      UNKOWN\n"
     ]
    }
   ],
   "source": [
    "# View heads of tables\n",
    "filenames = glob.glob('*.json')\n",
    "\n",
    "for file in filenames:\n",
    "    with open(file) as json_data:\n",
    "        file = pd.DataFrame(json.load(json_data))\n",
    "        print(file.head())"
   ]
  },
  {
   "cell_type": "markdown",
   "metadata": {},
   "source": [
    "# Air quality"
   ]
  },
  {
   "cell_type": "code",
   "execution_count": 36,
   "metadata": {},
   "outputs": [
    {
     "ename": "FileNotFoundError",
     "evalue": "[Errno 2] No such file or directory: 'air_quality.json'",
     "output_type": "error",
     "traceback": [
      "\u001b[1;31m---------------------------------------------------------------------------\u001b[0m",
      "\u001b[1;31mFileNotFoundError\u001b[0m                         Traceback (most recent call last)",
      "\u001b[1;32m<ipython-input-36-c0a314fd81dd>\u001b[0m in \u001b[0;36m<module>\u001b[1;34m()\u001b[0m\n\u001b[1;32m----> 1\u001b[1;33m \u001b[1;32mwith\u001b[0m \u001b[0mopen\u001b[0m\u001b[1;33m(\u001b[0m\u001b[1;34m\"air_quality.json\"\u001b[0m\u001b[1;33m)\u001b[0m \u001b[1;32mas\u001b[0m \u001b[0mjson_data\u001b[0m\u001b[1;33m:\u001b[0m\u001b[1;33m\u001b[0m\u001b[0m\n\u001b[0m\u001b[0;32m      2\u001b[0m     \u001b[0mair\u001b[0m \u001b[1;33m=\u001b[0m \u001b[0mpd\u001b[0m\u001b[1;33m.\u001b[0m\u001b[0mDataFrame\u001b[0m\u001b[1;33m(\u001b[0m\u001b[0mjson\u001b[0m\u001b[1;33m.\u001b[0m\u001b[0mload\u001b[0m\u001b[1;33m(\u001b[0m\u001b[0mjson_data\u001b[0m\u001b[1;33m)\u001b[0m\u001b[1;33m)\u001b[0m\u001b[1;33m\u001b[0m\u001b[0m\n",
      "\u001b[1;31mFileNotFoundError\u001b[0m: [Errno 2] No such file or directory: 'air_quality.json'"
     ]
    }
   ],
   "source": [
    "with open(\"air_quality.json\") as json_data:\n",
    "    air = pd.DataFrame(json.load(json_data))"
   ]
  }
 ],
 "metadata": {
  "kernelspec": {
   "display_name": "Python 3",
   "language": "python",
   "name": "python3"
  },
  "language_info": {
   "codemirror_mode": {
    "name": "ipython",
    "version": 3
   },
   "file_extension": ".py",
   "mimetype": "text/x-python",
   "name": "python",
   "nbconvert_exporter": "python",
   "pygments_lexer": "ipython3",
   "version": "3.7.0"
  }
 },
 "nbformat": 4,
 "nbformat_minor": 2
}
